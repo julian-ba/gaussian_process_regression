{
 "cells": [
  {
   "cell_type": "markdown",
   "id": "eb82e354-273d-4250-be36-8580899f9f83",
   "metadata": {},
   "source": [
    "In this doc, we'll be using GPy to do basic Gaussian Process Regression (GPR) on sample data. First import some packages."
   ]
  },
  {
   "cell_type": "code",
   "execution_count": 1,
   "id": "01d843a2-5493-47d1-ad15-9a38a1246bdc",
   "metadata": {},
   "outputs": [],
   "source": [
    "import numpy as np\n",
    "from matplotlib import pyplot as plt\n",
    "from scipy import stats\n",
    "import GPy as gpy"
   ]
  },
  {
   "cell_type": "markdown",
   "id": "1a53bdda-5973-41f6-a601-0d72ceea03fa",
   "metadata": {},
   "source": [
    "Now create sample data. GPy uses 2-dimensional arrays (so a 1-d NumPy array `v` needs to be embedded as a 2-d array of shape `(len(v), 1)`, which we will call a \"column array\" in the following). Note that `X` is generated as a column array, according to the requirements of GPy."
   ]
  },
  {
   "cell_type": "code",
   "execution_count": 2,
   "id": "f41dcce7-0c7a-4b37-8814-cfea237cc80c",
   "metadata": {},
   "outputs": [],
   "source": [
    "def create_sample_values(n, loc=0, scale=1, ndim=1):\n",
    "    # Returns a (n, ndim)-shaped NumPy-array. The items are normally distributed according to scale, loc. \n",
    "    return stats.norm.rvs(loc=0, scale=1, size=(n,ndim))\n",
    "\n",
    "# Create 101 points linearly spaced in the interval [0, 10]\n",
    "X = np.linspace(0, 10, 101)[:, np.newaxis]\n",
    "\n",
    "# Generate 1-d sample data\n",
    "Y = create_sample_values(101)"
   ]
  },
  {
   "cell_type": "markdown",
   "id": "2776e144-03e1-4777-b0cc-510277ded485",
   "metadata": {},
   "source": [
    "GPy expects the training data (though - as we aren't interested in machine learning - the term is somewhat misleading; we use the terminology of GPy, though) to be given in 2 arrays: the array containing the locations of the values, and the array containing the locations *and* the values, so we use the NumPy function `numpy.column_stack(...)` to create this second array."
   ]
  },
  {
   "cell_type": "code",
   "execution_count": 3,
   "id": "dfcf1d58-a9be-403b-a25f-875a39c0d7f7",
   "metadata": {},
   "outputs": [],
   "source": [
    "fX = np.column_stack(\n",
    "    (X, Y)\n",
    ")"
   ]
  },
  {
   "cell_type": "markdown",
   "id": "2eb3d2cf-b2d6-4a1a-b0ac-d4ef6ad9a037",
   "metadata": {},
   "source": [
    "Now, we create the standard RBF kernel with our input dimension 1 (which must be the same as `X.shape[1]`, the length of the second dimension of `X`)."
   ]
  },
  {
   "cell_type": "code",
   "execution_count": 6,
   "id": "43b746a7-d844-4a84-835d-d95486fc78b6",
   "metadata": {},
   "outputs": [],
   "source": [
    "kern1 = gpy.kern.RBF(input_dim=1)"
   ]
  },
  {
   "cell_type": "markdown",
   "id": "dc3b6940-5eb8-4caf-87fe-1e65fb4869bd",
   "metadata": {},
   "source": []
  }
 ],
 "metadata": {
  "kernelspec": {
   "display_name": "Python 3 (ipykernel)",
   "language": "python",
   "name": "python3"
  },
  "language_info": {
   "codemirror_mode": {
    "name": "ipython",
    "version": 3
   },
   "file_extension": ".py",
   "mimetype": "text/x-python",
   "name": "python",
   "nbconvert_exporter": "python",
   "pygments_lexer": "ipython3",
   "version": "3.9.7"
  }
 },
 "nbformat": 4,
 "nbformat_minor": 5
}
