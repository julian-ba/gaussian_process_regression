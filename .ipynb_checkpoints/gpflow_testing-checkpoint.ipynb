{
 "cells": [
  {
   "cell_type": "markdown",
   "id": "be26ffdd-ca79-4755-ac61-6a86b42b3d8e",
   "metadata": {},
   "source": [
    "# GPFlow Testing\n",
    "In this document, we'll be taking a look GPflow's implementation of GPR, which is built on TensorFlow. In particular, we'll be comparing GPFlow to GPy. We first import the requisite packages."
   ]
  },
  {
   "cell_type": "code",
   "execution_count": null,
   "id": "f55691c8-1907-4d0e-a52b-dc99aee0db43",
   "metadata": {},
   "outputs": [],
   "source": [
    "import numpy as np\n",
    "import matplotlib.pyplot as plt"
   ]
  },
  {
   "cell_type": "code",
   "execution_count": null,
   "id": "e03f6029-7e25-4630-af1b-978751cd03d8",
   "metadata": {},
   "outputs": [],
   "source": []
  }
 ],
 "metadata": {
  "kernelspec": {
   "display_name": "Python 3 (ipykernel)",
   "language": "python",
   "name": "python3"
  },
  "language_info": {
   "codemirror_mode": {
    "name": "ipython",
    "version": 3
   },
   "file_extension": ".py",
   "mimetype": "text/x-python",
   "name": "python",
   "nbconvert_exporter": "python",
   "pygments_lexer": "ipython3",
   "version": "3.9.7"
  }
 },
 "nbformat": 4,
 "nbformat_minor": 5
}
